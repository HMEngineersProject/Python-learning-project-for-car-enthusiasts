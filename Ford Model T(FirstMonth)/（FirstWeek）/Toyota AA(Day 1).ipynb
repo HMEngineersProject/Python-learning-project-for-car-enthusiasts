{
 "cells": [
  {
   "cell_type": "markdown",
   "metadata": {},
   "source": [
    "# Toyota AA (Day 1)"
   ]
  },
  {
   "cell_type": "markdown",
   "metadata": {},
   "source": [
    "## Pythonとは"
   ]
  },
  {
   "cell_type": "markdown",
   "metadata": {},
   "source": [
    "まずは、Pythonがどんな言語なのかを学びましょう。"
   ]
  },
  {
   "cell_type": "markdown",
   "metadata": {},
   "source": [
    "### Pythonの歴史\n",
    "\n",
    "Pythonは1991年に、オランダ人プログラマーのグイド・ヴァン・ロッサムによって作られました。彼はクリスマス休暇中の暇つぶしとしてPythonの開発を始めました。\n",
    "\n",
    "面白いことに、Pythonという名前は、グイドさんが好きだったイギリスのコメディ番組「空飛ぶモンティ・パイソン」から取られています。\n",
    "\n",
    "### Pythonの主な特徴\n",
    "\n",
    "1. **読みやすく書きやすい**: Pythonは人間が読みやすく書きやすいように設計されています。他のプログラミング言語に比べて、短い文でプログラムが書けます。\n",
    "\n",
    "2. **無料で使える**: Pythonは無料でダウンロードして使えます。誰でも自由に使えるオープンソースの言語です。\n",
    "\n",
    "3. **便利な機能がたくさん**: Pythonには、いろいろなことができる多くの便利な機能（ライブラリと呼ばれます）が用意されています。\n",
    "\n",
    "4. **多目的に使える**: Pythonはウェブサイトを作ったり、データ分析をしたり、人工知能の開発をしたりと、幅広い分野で使えます。\n",
    "\n",
    "5. **人気がある**: 世界中の多くのプログラマーがPythonを使っています。GoogleやFacebookなどの大きな会社でも使われています。\n",
    "\n",
    "6. **エラーが分かりやすい**: プログラムを書いていて間違いがあったとき、Pythonは分かりやすく教えてくれます。\n",
    "\n",
    "7. **どんなコンピュータでも動く**: WindowsでもMacでもLinuxでも、Pythonは同じように動きます。\n",
    "\n",
    "Pythonは、初めてプログラミングを学ぶ人にもおすすめの言語です。簡単に始められて、でも本格的なプログラムも作れる、そんな便利な言語なのです。"
   ]
  },
  {
   "cell_type": "markdown",
   "metadata": {},
   "source": [
    "##  最初の第一歩目"
   ]
  },
  {
   "cell_type": "markdown",
   "metadata": {},
   "source": [
    "まずは、試しに一つコードを書いてみましょう。次のセルに、`print(\"Hello, world!\")`と書いて、セルを実行してみてください。"
   ]
  },
  {
   "cell_type": "code",
   "execution_count": null,
   "metadata": {},
   "outputs": [],
   "source": []
  },
  {
   "cell_type": "markdown",
   "metadata": {},
   "source": [
    "実行できましたか？正しく実行できていれば、次のように出力されるはずです。"
   ]
  },
  {
   "cell_type": "code",
   "execution_count": 3,
   "metadata": {},
   "outputs": [
    {
     "name": "stdout",
     "output_type": "stream",
     "text": [
      "Hello, World!\n"
     ]
    }
   ],
   "source": [
    "print(\"Hello, world!\")"
   ]
  },
  {
   "cell_type": "markdown",
   "metadata": {},
   "source": [
    "やりましたね！！初めてのコードが書けました！！\n",
    "みんカラやX(旧Twtter)に投稿したい気持ちは山々ですが次に進みましょう。"
   ]
  },
  {
   "cell_type": "markdown",
   "metadata": {},
   "source": [
    "### 先ほどのコードの解説"
   ]
  },
  {
   "cell_type": "markdown",
   "metadata": {},
   "source": [
    "先ほどのコードでは、`\"Hello world\"`という`文字列`を、`print関数`で出力しました。\n",
    "\n",
    "いきなり言われても、正直わけわかりませんね。私もそうでした。わかりやすく解説します。"
   ]
  },
  {
   "cell_type": "markdown",
   "metadata": {},
   "source": [
    "#### 文字列 (string)って何？"
   ]
  },
  {
   "cell_type": "markdown",
   "metadata": {},
   "source": [
    "まずは、文字列（string）についてです。\n",
    "\n",
    "一言で言えば、`文字からなるデータ`のことです。先ほどは\"Hello world!\"でしたが、例えば\"ESTIMA\"でも、\"АвтоВАЗ \"でも、はたまた\"𓅓\"でもいいです。\n",
    "\n",
    " `\"`(ダブルクォテーション) か` '`(シングルクォテーション) で文字前後を囲んでいればその時点で文字列です。\n",
    "\n",
    "※ちなみに`АвтоВАЗ`はロシア最大の自動車メーカーアフトヴァースの現地表記です。`𓅓`は古代エジプト語・ヒエログリフでフクロウという意味です。\n",
    "\n",
    "※最近のパソコンはUnicodeという世界標準規格の文字セット（文字の集合体）により世界の文字のほとんどを網羅しています。優秀ですな。"
   ]
  },
  {
   "cell_type": "code",
   "execution_count": 8,
   "metadata": {},
   "outputs": [
    {
     "name": "stdout",
     "output_type": "stream",
     "text": [
      "ESTIMA\n",
      "АвтоВАЗ \n",
      "𓅓\n"
     ]
    }
   ],
   "source": [
    "print(\"ESTIMA\")\n",
    "print(\"АвтоВАЗ \")\n",
    "print(\"𓅓\")"
   ]
  },
  {
   "cell_type": "markdown",
   "metadata": {},
   "source": [
    "なお、`\"`や`'`で囲い忘れるとエラーになります。"
   ]
  },
  {
   "cell_type": "code",
   "execution_count": 1,
   "metadata": {},
   "outputs": [
    {
     "ename": "SyntaxError",
     "evalue": "unterminated string literal (detected at line 1) (3190679160.py, line 1)",
     "output_type": "error",
     "traceback": [
      "\u001b[0;36m  Cell \u001b[0;32mIn[1], line 1\u001b[0;36m\u001b[0m\n\u001b[0;31m    print(\"Tesla)\u001b[0m\n\u001b[0m          ^\u001b[0m\n\u001b[0;31mSyntaxError\u001b[0m\u001b[0;31m:\u001b[0m unterminated string literal (detected at line 1)\n"
     ]
    }
   ],
   "source": [
    "print(\"Tesla)"
   ]
  },
  {
   "cell_type": "markdown",
   "metadata": {},
   "source": [
    "#### 関数って何？"
   ]
  },
  {
   "cell_type": "markdown",
   "metadata": {},
   "source": [
    "続いて関数についてです。\n",
    "\n",
    "関数を一言で説明すると、"
   ]
  }
 ],
 "metadata": {
  "kernelspec": {
   "display_name": "base",
   "language": "python",
   "name": "python3"
  },
  "language_info": {
   "codemirror_mode": {
    "name": "ipython",
    "version": 3
   },
   "file_extension": ".py",
   "mimetype": "text/x-python",
   "name": "python",
   "nbconvert_exporter": "python",
   "pygments_lexer": "ipython3",
   "version": "3.11.7"
  }
 },
 "nbformat": 4,
 "nbformat_minor": 2
}
